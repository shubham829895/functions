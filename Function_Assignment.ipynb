{
  "nbformat": 4,
  "nbformat_minor": 0,
  "metadata": {
    "colab": {
      "provenance": []
    },
    "kernelspec": {
      "name": "python3",
      "display_name": "Python 3"
    },
    "language_info": {
      "name": "python"
    }
  },
  "cells": [
    {
      "cell_type": "markdown",
      "source": [
        "Theory Questions:"
      ],
      "metadata": {
        "id": "B6PVW9dT-Usi"
      }
    },
    {
      "cell_type": "code",
      "execution_count": null,
      "metadata": {
        "id": "y-y-pnFxqm7W"
      },
      "outputs": [],
      "source": []
    },
    {
      "cell_type": "markdown",
      "source": [
        "Question 1: What is the difference between a function and a method in python?\n",
        "\n",
        "Answer -In Python, both functions and methods are reusable blocks of code that perform specific tasks, but\n",
        "they differ in how they are used and where they are defined.\n",
        "\n",
        "1. Definition and Use\n",
        "\n",
        ". Function: A function is a standalone block of code that is defined using the def keyword. It is\n",
        "independent of any class, meaning it’s not associated with any specific object or data structure. You\n",
        "can call a function directly by its name.\n",
        "\n",
        "Example -\n",
        "\n",
        "def greet(name):\n",
        "return f\"Hello, {name}!\"\n",
        "print(greet(\"Alice\"))  # Calling the function directly\n",
        "\n",
        "Method: A method is a function that is defined within a class and is meant to operate on instances of\n",
        "that class. It is called on an object (or instance) of the class, and it can access the data (attributes) of\n",
        "the object through the self parameter.\n",
        "\n",
        "example -\n",
        "\n",
        "class Greeter:\n",
        "def greet(self, name):\n",
        "return f\"Hello, {name}!\"\n",
        "greeter = Greeter()\n",
        "print(greeter.greet(\"Alice\"))  # Calling the method on an object\n",
        "\n",
        "2. Binding to Objects\n",
        "\n",
        "Function: Functions are not bound to any object. They work independently and can be called with just\n",
        "their parameters.\n",
        "\n",
        "Method: Methods are bound to the objects of the class they belong to. When you call a method, it\n",
        "implicitly passes the object itself (referred to as self) as the first argument.\n",
        "\n",
        "3. Usage Context\n",
        "\n",
        "Function: Functions are typically used when you need a general-purpose piece of code that can work\n",
        "on various data inputs without needing access to any specific class or object.\n",
        "\n",
        "Function: Functions are typically used when you need a general-purpose piece of code that can work\n",
        "on various data inputs without needing access to any specific class or object.\n",
        "\n",
        "Summary Table-\n",
        "\n",
        "Aspect          function                       Method\n",
        "\n",
        "\n",
        "Defined in      Independent of classes         within a class\n",
        "\n",
        "\n",
        "Calling         function_name_(arguments)      object.method_name(arguments)\n",
        "\n",
        "\n",
        "Bound to        Not bound to any object        bound to the intance of the classs its defined\n",
        "\n",
        "Use case        General purpose functionality  functionality related to object data or behavior\n",
        "\n",
        "\n",
        "\n",
        "\n"
      ],
      "metadata": {
        "id": "8ihrc0MLq7Sn"
      }
    },
    {
      "cell_type": "markdown",
      "source": [
        "Question 2: Explain the concept of function arguments and parameters in python?\n",
        "\n",
        "Answer- In Python, function arguments and parameters are terms related to passing information into functions.\n",
        "\n",
        "1 Parameters-:\n",
        "\n",
        ".Parameters are the variable names listed in a function’s definition. They act as placeholders that\n",
        "allow you to pass data into the function.\n",
        "\n",
        ".  When you define a function, you specify parameters to indicate the kind of information the function\n",
        "expects to receive.\n",
        "\n",
        "Example\n",
        " def greet(name):   \n",
        "return f\"Hello, {name}!\"\n",
        "\n",
        "2 . Arguments\n",
        "\n",
        " . Arguments are the actual values you pass to the function when you call it. These values replace the\n",
        "parameters and are used within the function’s body.\n",
        "\n",
        ".  When calling a function, you provide arguments that correspond to the parameters in the function\n",
        "definition.\n",
        "\n",
        "greet(\"Alice\")  # \"Alice\" is an argument\n",
        "\n",
        "Types of Function Arguments in Python-:\n",
        "\n",
        " Python allows several ways of passing arguments to functions:\n",
        "\n",
        " 1 .  Positional Arguments:\n",
        "\n",
        " These are the simplest type of arguments. The order in which they are passed matters, as they are\n",
        "assigned to parameters based on their position.\n",
        "\n",
        "Example -\n",
        "\n",
        " def add(a, b):\n",
        "return a + b\n",
        "add(3, 5)  # 3 is assigned to `a`, 5 to `b`\n",
        "\n",
        "2 . Keyword Arguments:-\n",
        "\n",
        ". With keyword arguments, you can specify values by the parameter name, allowing you to pass arguments in any order\n",
        "\n",
        "\n",
        " . They are written in the form parameter=value\n",
        "\n",
        " example -\n",
        "  def introduce(name, age):\n",
        "return f\"I am {name} and I am {age} years old.\"\n",
        "introduce(age=25, name=\"Alice\")\n",
        "\n",
        "3 . Default Arguments:\n",
        "\n",
        " Default arguments let you assign default values to parameters. If an argument is not provided, the function will use the default value.\n",
        "\n",
        " . You set default values by assigning values to parameters in the function definition.\n",
        "\n",
        " example-\n",
        "\n",
        "  def greet(name=\"Guest\"):\n",
        "return f\"Hello, {name}!\"\n",
        "greet()           \n",
        "greet(\"Alice\")  \n",
        "\n",
        "4 . Variable-Length Arguments-:\n",
        "\n",
        " . Sometimes you may want a function to accept a variable number of arguments.\n",
        " . args (Non-Keyword Variable Arguments):\n",
        " . Using *args allows a function to accept any number of positional arguments, which are collected into a tuple .\n",
        "\n",
        " Example -\n",
        "\n",
        " def add_all(*args):\n",
        "    return sum(args)\n",
        "\n",
        "\n",
        "  add_all(1, 2, 3, 4)  \n",
        "\n",
        "  **kwargs (Keyword Variable Arguments):\n",
        ". Using **kwargs allows a function to accept any number of keyword arguments, which are collected into a dictionary.   \n",
        "\n",
        "Example -\n",
        "\n",
        "def print_info(**kwargs):\n",
        "for key, value in kwargs.items():\n",
        "print(f\"{key}: {value}\")\n",
        "print_info(name=\"Alice\", age=25, city=\"Paris\")\n",
        "\n",
        "Summary\n",
        "\n",
        "term          Description                                        example\n",
        "Parameter       Variable in the function definition                def greet(name):\n",
        "\n",
        "Argument       actual value passed to the function during the call   greet(\"Alice\")\n",
        "\n",
        "\n",
        "\n",
        "\n",
        "\n",
        "\n",
        "\n"
      ],
      "metadata": {
        "id": "_L3H5UPR3ve6"
      }
    },
    {
      "cell_type": "markdown",
      "source": [
        "Question 3: What are the different ways to define and call a function in python?\n",
        "\n",
        "Answer -:\n",
        "\n",
        "in Python, there are several ways to define and call functions, each useful in different scenarios. Let's go through the most common methods:\n",
        "\n",
        "1 . 1. Standard Function Definition\n",
        "\n",
        "Functions are typically defined using the def keyword, followed by a name, parameters, and a body.\n",
        "\n",
        "Example -:\n",
        "\n",
        "def greet(name):\n",
        "return f\"Hello, {name}!\"\n",
        "# Calling the function\n",
        "print(greet(\"Alice\"))\n",
        "\n",
        "2 . Function with Default Parameters\n",
        "\n",
        "You can set default values for parameters. If no argument is passed, the function uses the default values.\n",
        "\n",
        "Examples\n",
        "\n",
        "    def greet(name=\"Guest\"):\n",
        "    return f\"Hello, {name}!\"\n",
        " print(greet())   # Output: \"Hello, Guest!\"        \n",
        " print(greet(\"Alice\"))  # Output: \"Hello, Alice!\"   \n",
        "\n",
        "  3 . Lambda (Anonymous) Functions\n",
        "\n",
        "  .A lambda function is a single-line, anonymous function defined with the lambda keyword, mainly used for short, simple operations.\n",
        "\n",
        "Example:\n",
        "\n",
        "square = lambda x: x ** 2\n",
        "print(square(4))  # Output: 16\n",
        "\n",
        "4 .  Using *args for Variable-Length Positional Arguments\n",
        "\n",
        " *args allows you to pass a variable number of positional arguments to a function.\n",
        "\n",
        " Example-:\n",
        "\n",
        " def add_all(*args):\n",
        "return sum(args)\n",
        "print(add_all(1, 2, 3, 4))  # Output: 10\n",
        "\n",
        "5 .  Using **kwargs for Variable-Length Keyword Arguments\n",
        "\n",
        "**kwargs allows passing a variable number of keyword arguments, which are collected into a dictionary.\n",
        "\n",
        "Example-:\n",
        "\n",
        "def print_info(**kwargs):\n",
        "for key, value in kwargs.items():\n",
        "print(f\"{key}: {value}\")\n",
        "print_info(name=\"Alice\", age=25, city=\"Paris\")\n",
        "\n",
        "6 . Calling Functions as Arguments\n",
        "\n",
        " You can pass functions as arguments to other functions, which is common in higher-order functions.\n",
        "\n",
        " Example-\n",
        "\n",
        " def apply_func(func, value):\n",
        "return func(value)\n",
        "def square(x):\n",
        "return x ** 2\n",
        "print(apply_func(square, 5))  # Output: 25\n",
        "\n",
        "7 . Calling Functions Recursively\n",
        "\n",
        "A function can call itself, which is known as recursion. This is useful for problems like calculating factorials or\n",
        "traversing data structures.\n",
        "\n",
        "Example-:\n",
        "\n",
        "def factorial(n):\n",
        "if n == 1:\n",
        "    return 1\n",
        "    return n * factorial(n - 1)\n",
        "print(factorial(5))  # Output: 120\n",
        "\n",
        "8 .  Using map with Lambda or Regular Functions\n",
        "\n",
        "You can use map with functions to apply a function over\n",
        "\n",
        "Example-:\n",
        "\n",
        "def square(x):  \n",
        "    return x ** 2\n",
        "numbers = [1, 2, 3, 4]\n",
        "squared_numbers = list(map(square, numbers))\n",
        "print(squared_numbers)  # Output: [1, 4, 9, 16]\n",
        "\n",
        "\n",
        "\n",
        "\n",
        "\n",
        "\n",
        "\n",
        "\n",
        "\n"
      ],
      "metadata": {
        "id": "fQRUZu90-gep"
      }
    },
    {
      "cell_type": "markdown",
      "source": [
        "Q. 4 What is the purpose of return statement in python function ?\n",
        "\n",
        "Answer - The main purposes of the return statement are\n",
        "\n",
        ". Provide Output: It enables the function to pass data back to the code that called it, making the function useful for calculations, transformations, and data retrieval.\n",
        "\n",
        ".  End Function Execution: When Python encounters a return statement, it immediately exits the function, skipping any remaining code in the function body\n",
        "\n",
        ". Allow Reusability: By returning values, functions can be reused in different parts of a program, enabling modular and efficient code.\n",
        "\n",
        ". If no return statement is used, the function returns None by default, meaning it does not send any specific output back.\n",
        "\n",
        "Q 5 .  What are iterators in python and how do they differ from iterables ?\n",
        "\n",
        "Answer -  In Python, iterators and iterables are both fundamental concepts for handling data sequences, but they serve different roles. Here’s an explanation of each and how they differ:\n",
        "\n",
        " 1 . Iterables\n",
        "\n",
        " . An iterable is any Python object capable of returning its members one at a time, making it usable in a for loop or with other iteration tools like map, filter, and list comprehensions.\n",
        "\n",
        " . Common examples of iterables include data structures like lists, tuples, dictionaries, sets, and strings. These objects have an __iter__() method, which allows them to return an iterator when needed\n",
        "\n",
        " .  Essentially, if an object can be looped over, it’s considered an iterable.\n",
        "\n",
        " Example-:\n",
        "\n",
        "  numbers = [1, 2, 3]\n",
        "for num in numbers:\n",
        "    print(num)\n",
        "\n",
        "2 .  Iterators\n",
        "\n",
        " .An iterator is a special object that enables Python to fetch items from an iterable one at a time.\n",
        "\n",
        ". You can get an iterator from an iterable by calling iter() on it. The iterator itself has a __next__() method, which returns the next item from the sequence each time it’s called. Once the items are exhausted, __next__() raises a StopIteration exception\n",
        "\n",
        " .Iterators are stateful, meaning they remember where they are in the iteration process. They’re also \"lazy,\" as they fetch elements only when requested, which is useful for working with large or even infinite sequences.\n",
        "\n",
        " Example-:\n",
        "\n",
        "  numbers = [1, 2, 3]\n",
        "iterator = iter(numbers)  # `iterator` is now an iterator\n",
        "print(next(iterator))  # Output: 1\n",
        "print(next(iterator))  # Output: 2\n",
        "print(next(iterator))  # Output: 3\n",
        "\n",
        "\n",
        "\n",
        "\n",
        "\n",
        "\n",
        "\n",
        "\n",
        "\n",
        "\n"
      ],
      "metadata": {
        "id": "cRBRL98orJe6"
      }
    },
    {
      "cell_type": "markdown",
      "source": [
        "Q.6 : Explain the concept of generators in python and how they are defined?\n",
        "\n",
        "Answer-:   In Python, generators are a special type of iterator that allow you to iterate over data without storing the entire sequence in memory at once. They provide an efficient way to handle large datasets or streams of data by generating values one at a time, only when needed. Generators are especially useful in scenarios where you don’t need all the data at once, like reading lines from a file or generating an infinite sequence of\n",
        "numbers.\n",
        "\n",
        ". Generators are defined using either\n",
        "\n",
        ". Generator Functions: Functions that use the yield keyword instead of return\n",
        "\n",
        ". Generator Expressions: Similar to list comprehensions, but using parentheses () instead of square brackets\n",
        "\n",
        "1 . Generator Functions\n",
        "\n",
        "A generator function is defined like a regular function but includes the yield keyword. Each time yield is encountered, the function pauses and yields a value to the caller, resuming on the next next() call.\n",
        "\n",
        "Example-:\n",
        "\n",
        " def count_up_to(n):\n",
        "count = 1\n",
        "while count <= n:\n",
        "yield count  # Pauses and yields the current count\n",
        "count += 1\n",
        "counter = count_up_to(3)\n",
        "print(next(counter))  # Output: 1\n",
        "print(next(counter))  # Output: 2\n",
        "print(next(counter))  # Output: 3\n",
        "\n",
        " In this example, each next() call retrieves the next value in the sequence until the generator is exhausted.\n",
        "\n",
        " 2 . Generator Expressions\n",
        "\n",
        " A generator expression is a concise way to create a generator, similar to list comprehensions but with parentheses. It’s useful for quick, on-the-fly generation of data.\n",
        "\n",
        " Example-:\n",
        "\n",
        " # Generator expression for squares of numbers from 1 to 5\n",
        "squares = (x**2 for x in range(1, 6))\n",
        "# Accessing values one by one\n",
        "print(next(squares))  # Output: 1\n",
        "print(next(squares))  # Output: 4\n",
        "print(next(squares))  # Output: 9\n",
        "\n",
        "\n",
        "\n",
        "\n",
        "\n",
        "\n",
        "\n",
        "\n",
        "\n",
        "\n",
        "\n",
        "\n"
      ],
      "metadata": {
        "id": "SARqgIF_Oujr"
      }
    },
    {
      "cell_type": "markdown",
      "source": [
        "Question 7: What are the advantages of using generators over regular function?\n",
        "\n",
        "Answer-:  \n",
        "\n",
        " Advantages of Generators\n",
        "\n",
        " .  Memory Efficiency: They don’t require storing the entire dataset in memory\n",
        "\n",
        " . Improved Performance: Especially when working with large datasets, since they generate items as needed.\n",
        "\n",
        " .  Simplified Code: Generators make it easy to write iterators without needing to manage the iterator’s state\n"
      ],
      "metadata": {
        "id": "Yb_bZ8Z7jlyy"
      }
    },
    {
      "cell_type": "markdown",
      "source": [
        "Question 8: What is a lambda function in python and when it is typically used?\n",
        "\n",
        "Answer- : A lambda function in Python is a small anonymous function defined using the lambda keyword. Unlike regular functions defined with the def keyword, lambda functions are typically used for short, simple operations where the function body is a single expression. They can take any number of arguments but can only have one expression, which is evaluated and returned.\n",
        "\n",
        "Syntax:\n",
        "lambda arguments: expression\n",
        "Where arguments: The input parameters for the function (can be multiple, separated by commas).\n",
        "expression: A single expression that gets evaluated and returned.\n",
        "Example:  \n",
        "\n",
        "add = lambda x, y: x + y\n",
        "result = add(5, 3)  # Output: 8\n",
        "\n",
        "Typical Use Cases for Lambda Functions\n",
        "\n",
        ". Short Functions: When you need a quick function for a short task that won’t be reused elsewhere, lambda functions provide a concise way to define it inline.\n",
        "\n",
        ".  Higher-Order Functions: Lambda functions are often used as arguments to higher-order functions\n",
        "(functions that take other functions as arguments). This is common in functions like map(), filter(), and sorted().\n",
        "\n",
        "\n",
        "\n",
        "\n",
        "\n",
        "\n"
      ],
      "metadata": {
        "id": "hJjPwO9Ak8r_"
      }
    },
    {
      "cell_type": "markdown",
      "source": [
        " Question 9: What is the purpose and usage of the map() function in python?\n",
        "\n",
        " Answer- : The map() function in Python is a built-in function used to apply a specified function to each item of an iterable (like a list, tuple, or string) and return a map object (which is an iterator). The main purpose of map() is to facilitate functional programming by enabling transformation or computation on iterable elements in a concise and efficient manner\n",
        "\n",
        "  Purpose of map()\n",
        "\n",
        "  .  Transformation: map() is primarily used to transform data in an iterable by applying a function to each element.\n",
        "\n",
        "  .  Efficiency: It can provide performance benefits by avoiding the overhead of explicit loops and supporting lazy evaluation, which means values are produced only as needed.\n",
        "\n",
        "\n",
        "\n",
        "\n"
      ],
      "metadata": {
        "id": "G0xOiLkNl92w"
      }
    },
    {
      "cell_type": "markdown",
      "source": [
        "Question 10: What is the difference between map(), reduce(), and filter() function in python?\n",
        "\n",
        "Answer-  n Python, map() applies a function to each item in an iterable, filter() filters elements based on a condition, and reduce() (from functools) accumulates items into a single value.\n",
        "\n",
        "map()- Purpose: Applies a given function to each item in an iterable (like a list, tuple, etc.) and returns an iterator of the results.\n",
        "\n",
        "example-\n",
        "\n",
        "Example: map(lambda x: x * 2, [1, 2, 3]) would return an iterator with [2, 4, 6].\n",
        "\n",
        "Output: An iterator containing the transformed elements.\n",
        "\n",
        "Filter()- Purpose: Creates an iterator from elements of an iterable for which a given function returns True.\n",
        "\n",
        "Example: filter(lambda x: x % 2 == 0, [1, 2, 3, 4]) would return an iterator with [2, 4].\n",
        "\n",
        "Output: An iterator of elements that satisfy the condition.\n",
        "\n",
        "reduce() (from functools):\n",
        "\n",
        "Purpose: Applies a function to an accumulating result and each item of an iterable (from left to right) to reduce the iterable to a single value.\n",
        "\n",
        "Example: reduce(lambda x, y: x + y, [1, 2, 3]) would return 6 (1 + 2 + 3).\n",
        "Output: A single value resulting from the accumulation\n",
        "\n",
        "\n",
        "\n"
      ],
      "metadata": {
        "id": "extwQsgzm7TZ"
      }
    },
    {
      "cell_type": "markdown",
      "source": [
        "Question 11: Write the internal mechanism of sum operation using reduce function on this given list:[47, 11,42,13]\n",
        "\n",
        "Answer- Step-by-Step Mechanism of Summation with reduce()\n",
        "\n",
        "Import reduce from functools: First, we need to import the reduce function from the functools module.\n",
        "\n",
        "from functools import reduce\n",
        "\n",
        "Define the Addition Function: We define a function that takes two arguments and returns their sum. This function will be used by reduce() to combine elements in the list\n",
        "\n",
        " def add(x, y):\n",
        "\n",
        "\n",
        "return x + y\n",
        "\n",
        "Initialize the List: We have the list of numbers we want to sum\n",
        "\n",
        " numbers = [47, 11, 42, 13]\n",
        "\n",
        "  .Apply reduce(): We call the reduce() function, passing the addition function and the list of numbers. The reduce() function will apply the addition function cumulatively to the items of the iterable (the list)\n",
        "\n",
        "   total = reduce(add, numbers)\n",
        "\n",
        " Internal Mechanism of reduce()\n",
        "\n",
        " Here's how the reduce() function works internally with the provided list:\n",
        "\n",
        " 1 . Initial Call:\n",
        " It takes the first two elements of the list: 47 and 11.\n",
        " Calls add(47, 11) which returns 58\n",
        "\n",
        "2 Next Call:\n",
        " .The result 58 is then combined with the next element in the list: 42.\n",
        " .Calls add(58, 42) which returns 100.\n",
        "\n",
        "3  Final Call:\n",
        " .The result 100 is then combined with the last element in the list: 13.\n",
        " .Calls add(100, 13) which returns 113.\n",
        "\n",
        " Final Result\n",
        "After all the elements have been processed, reduce() returns the final cumulative result.\n",
        "\n",
        " print(total)  # Output: 113\n",
        "\n",
        "  Complete Example Code\n",
        "Putting it all together, here is the complete code to perform the sum operation using reduce():\n",
        "\n",
        "# Define the addition function\n",
        "def add(x, y):\n",
        "return x + y\n",
        "# Initialize the list\n",
        "numbers = [47, 11, 42, 13]\n",
        "# Use reduce to sum the numbers\n",
        "total = reduce(add, numbers)\n",
        "# Print the result\n",
        "print(total)  # Output: 113\n",
        "\n",
        "The reduce() function effectively processes the list by applying the add function in a cumulative manner, resulting in the total sum of all the elements in the list [47, 11, 42, 13], which is 113.\n",
        "\n",
        "\n",
        ".\n",
        "\n",
        "\n",
        "\n"
      ],
      "metadata": {
        "id": "vYzcGJH1qKpI"
      }
    },
    {
      "cell_type": "markdown",
      "source": [
        "practical Questions"
      ],
      "metadata": {
        "id": "aDd4NpYI-TAq"
      }
    },
    {
      "cell_type": "code",
      "source": [
        "# Question   1. Write a Python function that takes a list of numbers as input and returns the sum of all even numbers in the list\n",
        "\n",
        "\n",
        "def sum_of_even_numbers(numbers):\n",
        "    return sum(num for num in numbers if num % 2 == 0)\n",
        "\n",
        "# Example Usage\n",
        "numbers = [1, 2, 3, 4, 5, 6]\n",
        "print(sum_of_even_numbers(numbers))  # Output: 12"
      ],
      "metadata": {
        "colab": {
          "base_uri": "https://localhost:8080/"
        },
        "id": "e5xarFLg-PFD",
        "outputId": "3c5f9781-b39b-41da-ea11-a51349b6dfe3"
      },
      "execution_count": 2,
      "outputs": [
        {
          "output_type": "stream",
          "name": "stdout",
          "text": [
            "12\n"
          ]
        }
      ]
    },
    {
      "cell_type": "code",
      "source": [
        "# Question 2: Create a Python function that accepts a string and returns the reverse of that string\n",
        "\n",
        "def reverse_string(s):\n",
        "    return s[::-1]\n",
        "# Example Usage\n",
        "text = \"Hello, world!\"\n",
        "print(reverse_string(text))  # Output: !dlrow ,olleH\n"
      ],
      "metadata": {
        "colab": {
          "base_uri": "https://localhost:8080/"
        },
        "id": "GRO5WEiUs_iq",
        "outputId": "a7aff010-7364-4284-e296-4895a14549fe"
      },
      "execution_count": 3,
      "outputs": [
        {
          "output_type": "stream",
          "name": "stdout",
          "text": [
            "!dlrow ,olleH\n"
          ]
        }
      ]
    },
    {
      "cell_type": "code",
      "source": [
        "# Question 3 : Implement a Python function that takes a list of integers and returns a new list containing the squares of each number.\n",
        "\n",
        "def square_numbers(numbers):\n",
        "    return [num ** 2 for num in numbers]\n",
        "\n",
        "# Example Usage\n",
        "numbers = [1, 2, 3, 4, 5]\n",
        "print(square_numbers(numbers))  # Output: [1, 4, 9, 16, 25]"
      ],
      "metadata": {
        "colab": {
          "base_uri": "https://localhost:8080/"
        },
        "id": "4v-cOOg1tvn9",
        "outputId": "f9a7d3e9-690a-4fd6-808b-af7e9d86dcb4"
      },
      "execution_count": 4,
      "outputs": [
        {
          "output_type": "stream",
          "name": "stdout",
          "text": [
            "[1, 4, 9, 16, 25]\n"
          ]
        }
      ]
    },
    {
      "cell_type": "code",
      "source": [
        "# Question 4: Write a Python function that checks if a given number is prime or not from 1 to 200.\n",
        "\n",
        "def is_prime(n):\n",
        "    if n < 2:\n",
        "        return False\n",
        "    for i in range(2, int(n**0.5) + 1):\n",
        "        if n % i == 0:\n",
        "            return False\n",
        "    return True\n",
        "# Example Usage\n",
        "for number in range(1, 201):\n",
        "    if is_prime(number):\n",
        "        print(number, end=' ')"
      ],
      "metadata": {
        "colab": {
          "base_uri": "https://localhost:8080/"
        },
        "id": "ZVfPqBz0t5DL",
        "outputId": "bd1eaac7-a7c5-4f0b-9aa4-4cd6fcdbd7b0"
      },
      "execution_count": 5,
      "outputs": [
        {
          "output_type": "stream",
          "name": "stdout",
          "text": [
            "2 3 5 7 11 13 17 19 23 29 31 37 41 43 47 53 59 61 67 71 73 79 83 89 97 101 103 107 109 113 127 131 137 139 149 151 157 163 167 173 179 181 191 193 197 199 "
          ]
        }
      ]
    },
    {
      "cell_type": "code",
      "source": [
        "# Question 5: Create an iterator class in Python that generates the Fibonacci sequence up to a specified number of terms.\n",
        "\n",
        "class Fibonacci:\n",
        "    def __init__(self, terms):\n",
        "        self.terms = terms\n",
        "        self.current = 0\n",
        "        self.next = 1\n",
        "        self.index = 0\n",
        "    def __iter__(self):\n",
        "        return self\n",
        "    def __next__(self):\n",
        "        if self.index >= self.terms:\n",
        "            raise StopIteration\n",
        "        result = self.current\n",
        "        self.current, self.next = self.next, self.current + self.next\n",
        "        self.index += 1\n",
        "        return result\n",
        "# Example Usage\n",
        "fib = Fibonacci(10)\n",
        "for num in fib:\n",
        "    print(num, end=' ')\n"
      ],
      "metadata": {
        "colab": {
          "base_uri": "https://localhost:8080/"
        },
        "id": "_2CCEyk2uMzv",
        "outputId": "cb00a2f4-de3b-44de-e469-bab8df0e1fd7"
      },
      "execution_count": 6,
      "outputs": [
        {
          "output_type": "stream",
          "name": "stdout",
          "text": [
            "0 1 1 2 3 5 8 13 21 34 "
          ]
        }
      ]
    },
    {
      "cell_type": "code",
      "source": [
        "#  6: Write a generator function in Python that yields the powers of 2 up to a given exponent.\n",
        "\n",
        "def powers_of_2(limit):\n",
        "    for i in range(limit + 1):\n",
        "        yield 2 ** i\n",
        "# Example Usage\n",
        "for power in powers_of_2(5):\n",
        "    print(power)\n"
      ],
      "metadata": {
        "colab": {
          "base_uri": "https://localhost:8080/"
        },
        "id": "R5rSzVQJuT_i",
        "outputId": "74666ac6-ce52-42db-97c1-d45ae7868343"
      },
      "execution_count": 7,
      "outputs": [
        {
          "output_type": "stream",
          "name": "stdout",
          "text": [
            "1\n",
            "2\n",
            "4\n",
            "8\n",
            "16\n",
            "32\n"
          ]
        }
      ]
    },
    {
      "cell_type": "code",
      "source": [
        "# Question 7: Implement a generator function that reads a file line by line and yields each line as a string.\n",
        "\n",
        "def read_file_line_by_line(filename):\n",
        "    with open(filename, 'r') as file:\n",
        "        for line in file:\n",
        "            yield line.strip()\n",
        "# Example Usage\n",
        "# for line in read_file_line_by_line('example.txt'):\n",
        "#     print(line)\n"
      ],
      "metadata": {
        "id": "yhYHU2JtvNve"
      },
      "execution_count": 8,
      "outputs": []
    },
    {
      "cell_type": "code",
      "source": [
        "# Question 8: Use a lambda function in Python to sort a list of tuples based on the second element of each tuple.\n",
        "\n",
        "tuples_list = [(1, 3), (4, 2), (2, 5), (3, 1)]\n",
        "sorted_tuples = sorted(tuples_list, key=lambda x: x[1])\n",
        "print(sorted_tuples)  # Output: [(3, 1), (4, 2), (1, 3), (2, 5)]\n"
      ],
      "metadata": {
        "colab": {
          "base_uri": "https://localhost:8080/"
        },
        "id": "DzWGI2cVvaw5",
        "outputId": "5d341665-2610-442b-c2d9-1ae19f398867"
      },
      "execution_count": 9,
      "outputs": [
        {
          "output_type": "stream",
          "name": "stdout",
          "text": [
            "[(3, 1), (4, 2), (1, 3), (2, 5)]\n"
          ]
        }
      ]
    },
    {
      "cell_type": "code",
      "source": [
        "# Question 9: Write a Python program that uses map() to convert a list of temperatures from Celsius to Fahrenheit.\n",
        "\n",
        "def celsius_to_fahrenheit(celsius_list):\n",
        "    return list(map(lambda c: (c * 9/5) + 32, celsius_list))\n",
        "# Example Usage\n",
        "celsius = [0, 20, 37, 100]\n",
        "fahrenheit = celsius_to_fahrenheit(celsius)\n",
        "print(fahrenheit)  # Output: [32.0, 68.0, 98.6, 212.0]"
      ],
      "metadata": {
        "colab": {
          "base_uri": "https://localhost:8080/"
        },
        "id": "667odldQvivf",
        "outputId": "9c9769f9-0e11-4136-8872-071a8aedda20"
      },
      "execution_count": 10,
      "outputs": [
        {
          "output_type": "stream",
          "name": "stdout",
          "text": [
            "[32.0, 68.0, 98.6, 212.0]\n"
          ]
        }
      ]
    },
    {
      "cell_type": "code",
      "source": [
        "# Question 10: Create a Python program that uses filter() to remove all the vowels from a given string.\n",
        "\n",
        "def remove_vowels(string):\n",
        "    return ''.join(filter(lambda char: char.lower() not in 'aeiou', string))\n",
        "# Example Usage\n",
        "text = \"Hello World\"\n",
        "print(remove_vowels(text))  # Output: \"Hll Wrld\"\n"
      ],
      "metadata": {
        "colab": {
          "base_uri": "https://localhost:8080/"
        },
        "id": "QjAafmQRvrO7",
        "outputId": "ef51959b-0046-498e-a124-c0bec03da51f"
      },
      "execution_count": 11,
      "outputs": [
        {
          "output_type": "stream",
          "name": "stdout",
          "text": [
            "Hll Wrld\n"
          ]
        }
      ]
    },
    {
      "cell_type": "code",
      "source": [
        "# Question 11: Imagine an accounting routine used in a book shop. It works on a list with sublists, which look like this: Write a Python program, which returns a list with 2-tuples. Each tuple consists of the order number and the product of the price per item and the quantity. The product should be increased by 10,- € if the value of the order is smaller than 100,00 €.\n",
        "\n",
        "# Lambda function to calculate total with conditional addition\n",
        "calculate_total = lambda order:\n",
        "       ( order[0], # Order Number\n",
        "        order[2] * order[3] + (10 if order[2] * order[3] < 100 else 0) # Total with extra if below 100 )"
      ],
      "metadata": {
        "colab": {
          "base_uri": "https://localhost:8080/",
          "height": 106
        },
        "id": "jekvqHeIv54h",
        "outputId": "740932d7-0a85-47a9-8525-adf1c7cdd601"
      },
      "execution_count": 15,
      "outputs": [
        {
          "output_type": "error",
          "ename": "SyntaxError",
          "evalue": "invalid syntax (<ipython-input-15-6ba64e10c91b>, line 4)",
          "traceback": [
            "\u001b[0;36m  File \u001b[0;32m\"<ipython-input-15-6ba64e10c91b>\"\u001b[0;36m, line \u001b[0;32m4\u001b[0m\n\u001b[0;31m    calculate_total = lambda order:\u001b[0m\n\u001b[0m                                   ^\u001b[0m\n\u001b[0;31mSyntaxError\u001b[0m\u001b[0;31m:\u001b[0m invalid syntax\n"
          ]
        }
      ]
    },
    {
      "cell_type": "code",
      "source": [
        "# 11b. Write a Python program using lambda and map.\n",
        "\n",
        "# Applying map to generate the desired output\n",
        "order_totals = list(map(calculate_total, orders))\n",
        "print(order_totals)\n"
      ],
      "metadata": {
        "id": "jkIpmh9ywds6"
      },
      "execution_count": null,
      "outputs": []
    }
  ]
}